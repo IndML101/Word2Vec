{
 "cells": [
  {
   "cell_type": "code",
   "execution_count": 1,
   "id": "56a3333d-e869-40e6-a7c7-7fbd7704101e",
   "metadata": {},
   "outputs": [],
   "source": [
    "import os, pprint as pp\n",
    "import torch\n",
    "from src.utils import DataIO, DataLoader\n",
    "from src.models import Word2Vec, EvaluateSGNS\n",
    "import gc"
   ]
  },
  {
   "cell_type": "code",
   "execution_count": 4,
   "id": "855f9840-2ae9-4841-8c64-fe9cfeb4e429",
   "metadata": {},
   "outputs": [],
   "source": [
    "# from main import ROOTDIR"
   ]
  },
  {
   "cell_type": "code",
   "execution_count": 5,
   "id": "8849597b-3fca-4f3e-9f17-5267127138ec",
   "metadata": {},
   "outputs": [],
   "source": [
    "FILEPATH = 'Artifacts/metadata'\n",
    "FNAMES = [\n",
    "    'processed_data.pkl',\n",
    "    'word_counts.pkl',\n",
    "    'word2index.pkl',\n",
    "    'index2word.pkl'\n",
    "]\n",
    "# All paths are relative to root folder\n",
    "DATAPATH = ['Data/ds2.txt'] # path of training data\n",
    "MODELPATH = os.path.join(ROOTDIR, 'Artifacts/model/word2vec-2023-10-07 22:02:30.387717.pt') # path of the model\n",
    "SOURCEFILE = ['Data/ds1.txt'] #path of test data\n",
    "W2I = 'Artifacts/metadata/word2index.pkl'# path of word to index map\n",
    "I2W = 'Artifacts/metadata/index2word.pkl' # path of index to word map\n",
    "VOCAB_SIZE = 10000\n",
    "EMBED_SIZE = 300\n",
    "EXP_CONST = 3/4\n",
    "BATCH_SIZE = 128\n",
    "WINDOW = 4\n",
    "NEG_SAMPLES = 10\n",
    "HISTORY = 100\n",
    "EPOCHS = 10"
   ]
  },
  {
   "cell_type": "code",
   "execution_count": 6,
   "id": "71bbdcc0-ed96-4f4d-aa97-8ce100fd1054",
   "metadata": {},
   "outputs": [],
   "source": [
    "# data_io = DataIO(ROOTDIR, filepath=DATAPATH, vocab_size=VOCAB_SIZE)\n",
    "# data_io.process_data(filepath=FILEPATH, fnames=FNAMES)\n",
    "\n",
    "# metadata = DataIO.load_data(root_dir=ROOTDIR, filepath=FILEPATH, fnames=FNAMES)\n",
    "# loader = DataLoader(*metadata, exp_const=EXP_CONST)"
   ]
  },
  {
   "cell_type": "code",
   "execution_count": 7,
   "id": "63e7cd1d-9a8b-4c19-9689-ccf474d9fc3d",
   "metadata": {},
   "outputs": [],
   "source": [
    "# torch.cuda.empty_cache()\n",
    "# gc.collect()"
   ]
  },
  {
   "cell_type": "code",
   "execution_count": 8,
   "id": "1ad8e922-c10f-4fd4-bd33-4d3668af7304",
   "metadata": {},
   "outputs": [],
   "source": [
    "# word2vec = Word2Vec(\n",
    "#     root_dir=ROOTDIR,\n",
    "#     train=True,\n",
    "#     sgd=False,\n",
    "#     process_data=False,\n",
    "#     source_filepath=[],\n",
    "#     metadata_filepath=FILEPATH,\n",
    "#     metadata_fnames=FNAMES,\n",
    "#     vocab_size=VOCAB_SIZE,\n",
    "#     embedding_dim=EMBED_SIZE\n",
    "# )\n",
    "\n",
    "# loss, modelname = word2vec.train(epochs=EPOCHS, steps=10000, window=WINDOW, k=NEG_SAMPLES, batch_size=BATCH_SIZE, loss_history=HISTORY)"
   ]
  },
  {
   "cell_type": "code",
   "execution_count": null,
   "id": "e0f9047f-b1a1-4aa8-b723-643892717733",
   "metadata": {},
   "outputs": [],
   "source": [
    "model = Word2Vec.load_sgns(vocab_size=VOCVOCAB_SIZE, embedding_dim=EMBED_SIZE, path=MODELPATH)"
   ]
  },
  {
   "cell_type": "code",
   "execution_count": null,
   "id": "0cc78a6f-1aed-4df2-a9ad-4bd05572aca6",
   "metadata": {},
   "outputs": [],
   "source": [
    "evaluator = EvaluateSGNS(\n",
    "    model=model,\n",
    "    root_dir=ROOTDIR,\n",
    "    source_filepath=SOURCEFILE,\n",
    "    w2i_path=W2I,\n",
    "    i2w_path=I2W\n",
    ")\n",
    "output = evaluator.evaluate(ksamples=10, top_k=5)\n",
    "pp.pprint(output)"
   ]
  }
 ],
 "metadata": {
  "kernelspec": {
   "display_name": "dlenv",
   "language": "python",
   "name": "dlenv"
  },
  "language_info": {
   "codemirror_mode": {
    "name": "ipython",
    "version": 3
   },
   "file_extension": ".py",
   "mimetype": "text/x-python",
   "name": "python",
   "nbconvert_exporter": "python",
   "pygments_lexer": "ipython3",
   "version": "3.11.5"
  }
 },
 "nbformat": 4,
 "nbformat_minor": 5
}
